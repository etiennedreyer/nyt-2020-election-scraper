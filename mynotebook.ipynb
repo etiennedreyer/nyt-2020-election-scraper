{
 "cells": [
  {
   "cell_type": "code",
   "execution_count": 1,
   "metadata": {},
   "outputs": [],
   "source": [
    "import numpy as np\n",
    "import matplotlib.dates\n",
    "import matplotlib.pyplot as plt\n",
    "from matplotlib import gridspec\n",
    "import pandas as pd\n",
    "from datetime import datetime"
   ]
  },
  {
   "cell_type": "code",
   "execution_count": 2,
   "metadata": {},
   "outputs": [],
   "source": [
    "votes = pd.DataFrame()"
   ]
  },
  {
   "cell_type": "code",
   "execution_count": 3,
   "metadata": {},
   "outputs": [],
   "source": [
    "votescsv = pd.read_csv('battleground-state-changes.csv')"
   ]
  },
  {
   "cell_type": "code",
   "execution_count": 4,
   "metadata": {},
   "outputs": [],
   "source": [
    "#take first word (ignore \"(EV: X)\")\n",
    "votes['state'] = votescsv['state']\n",
    "for i,row in votes.iterrows():\n",
    "    row['state'] = row['state'].split(' (')[0]"
   ]
  },
  {
   "cell_type": "code",
   "execution_count": 5,
   "metadata": {},
   "outputs": [],
   "source": [
    "votes['timestamp'] = pd.to_datetime(votescsv['timestamp'],format='%Y-%m-%d %H:%M:%S.%f')"
   ]
  },
  {
   "cell_type": "code",
   "execution_count": 6,
   "metadata": {},
   "outputs": [],
   "source": [
    "votes['biden']     = np.where(votescsv['leading_candidate_name']=='Biden',votescsv['leading_candidate_votes'],votescsv['trailing_candidate_votes'])\n",
    "votes['trump']     = np.where(votescsv['leading_candidate_name']=='Trump',votescsv['leading_candidate_votes'],votescsv['trailing_candidate_votes'])"
   ]
  },
  {
   "cell_type": "code",
   "execution_count": 7,
   "metadata": {},
   "outputs": [],
   "source": [
    "votes.sort_values(by='timestamp',inplace=True)"
   ]
  },
  {
   "cell_type": "code",
   "execution_count": 8,
   "metadata": {},
   "outputs": [],
   "source": [
    "for i,row in votes.iterrows():\n",
    "    row"
   ]
  },
  {
   "cell_type": "code",
   "execution_count": 13,
   "metadata": {
    "scrolled": false
   },
   "outputs": [],
   "source": [
    "#for state in ['Alaska','Arizona','Georgia','North Carolina','Nevada','Pennsylvania']:\n",
    "for state in ['Georgia','Pennsylvania']:\n",
    "    \n",
    "    stdf  = votes.query((\"state == '%s'\" % state),inplace=False)\n",
    "    times = stdf['timestamp'].dt.to_pydatetime()\n",
    "    biden = stdf['biden']\n",
    "    trump = stdf['trump']\n",
    "\n",
    "    #cumulative fractions\n",
    "    total  = biden.values[:-1] + trump.values[:-1]\n",
    "    fbiden = biden.values[:-1]/total\n",
    "    ftrump = trump.values[:-1]/total\n",
    "    \n",
    "    #vote increments\n",
    "    dtimes =                           times[:-1]\n",
    "    dbiden = biden.values[1:] - biden.values[:-1]\n",
    "    dtrump = trump.values[1:] - trump.values[:-1]\n",
    "    dtotal = dbiden + dtrump\n",
    "    \n",
    "    #relative increment (change as percentage of former value)\n",
    "    rbiden = dbiden / biden.values[:-1]\n",
    "    rtrump = dtrump / trump.values[:-1]\n",
    "    \n",
    "    #remove increments with total==0\n",
    "    dtimes = dtimes[dtotal!=0]\n",
    "    dbiden = dbiden[dtotal!=0]\n",
    "    dtrump = dtrump[dtotal!=0]\n",
    "    rbiden = rbiden[dtotal!=0]\n",
    "    rtrump = rtrump[dtotal!=0]\n",
    "    fbiden = fbiden[dtotal!=0]\n",
    "    ftrump = ftrump[dtotal!=0]\n",
    "    dtotal = dtotal[dtotal!=0]\n",
    "    \n",
    "    dbiden_neg = -1*dbiden\n",
    "    \n",
    "    #fractions of total vote increment\n",
    "    fdbiden = dbiden/dtotal\n",
    "    fdtrump = dtrump/dtotal\n",
    "\n",
    "    #performance:= ratio of fraction of new votes to cumulative fraction\n",
    "    zbiden = fdbiden/fbiden\n",
    "    ztrump = fdtrump/ftrump\n",
    "    \n",
    "    plt.rcParams[\"figure.figsize\"] = [8,6]\n",
    "    fig, (top,mid,bot) = plt.subplots(3, sharex=True)\n",
    "    \n",
    "    top.plot(times,biden,c='b')\n",
    "    top.plot(times,trump,c='r')\n",
    "    top.grid(axis='x')\n",
    "    top.set_ylabel('total votes')\n",
    "\n",
    "    mid.scatter(dtimes,zbiden,c='b',marker=\"^\",s=5)\n",
    "    mid.scatter(dtimes,ztrump,c='r',marker=\"v\",s=5)\n",
    "    #mid.set_ylim(-0.55,0.55)\n",
    "    mid.grid(axis='x')\n",
    "    mid.grid(axis='y')\n",
    "    mid.set_ylabel('# new votes / expected')\n",
    "\n",
    "\n",
    "    bot.bar(dtimes,fdbiden,width=0.007,color='b')\n",
    "    bot.bar(dtimes,fdtrump,bottom=fdbiden,width=0.007,color='r')\n",
    "    #bot.bar(dtimes,dbiden,width=0.01,color='b')\n",
    "    #bot.bar(dtimes,dtrump,bottom=dbiden,width=0.01,color='r')\n",
    "    #bot.bar(dtimes,dbiden_neg,width=0.01,color='b')\n",
    "    #bot.bar(dtimes,dtrump,width=0.01,color='r')\n",
    "    bot.scatter(dtimes,fdbiden,color='black',marker=\"_\",s=10,zorder=3)\n",
    "    bot.xaxis_date()\n",
    "    bot.set_xlabel('date/time')\n",
    "    bot.set_ylabel('fraction of new votes')\n",
    "    bot.set_axisbelow(True)\n",
    "    bot.set_ylim(-0.01,1.01)\n",
    "    bot.grid(axis='x') \n",
    "    bot.grid(axis='y',linestyle='dashed')\n",
    "    \n",
    "    plt.xticks(rotation=45)\n",
    "    plt.tight_layout()\n",
    "    \n",
    "    fig.savefig('%s.pdf' % state)\n",
    "    plt.close()"
   ]
  },
  {
   "cell_type": "code",
   "execution_count": null,
   "metadata": {},
   "outputs": [],
   "source": [
    "'''\n",
    "state='Georgia'\n",
    "    \n",
    "stdf  = votes.query((\"state == '%s'\" % state),inplace=False)\n",
    "times = stdf['timestamp'].dt.to_pydatetime()\n",
    "biden = stdf['biden']\n",
    "trump = stdf['trump']\n",
    "\n",
    "#vote increments\n",
    "dtimes =                           times[:-1]\n",
    "dbiden = biden.values[1:] - biden.values[:-1]\n",
    "dtrump = trump.values[1:] - trump.values[:-1]\n",
    "dtotal = dbiden + dtrump\n",
    "\n",
    "#remove increments with total==0\n",
    "dtimes = dtimes[dtotal!=0]\n",
    "dbiden = dbiden[dtotal!=0]\n",
    "dtrump = dtrump[dtotal!=0]\n",
    "dtotal = dtotal[dtotal!=0]\n",
    "\n",
    "dbiden_neg = -1*dbiden\n",
    "\n",
    "#fractions of total vote increment\n",
    "fbiden = dbiden/dtotal\n",
    "ftrump = dtrump/dtotal\n",
    "\n",
    "plt.scatter(dbiden,dtotal,c='b')\n",
    "plt.scatter(dtrump,dtotal,c='r')\n",
    "#plt.bar(dbiden,color='b')\n",
    "#plt.hist(dtrump,color='r')\n",
    "plt.yscale(\"log\")\n",
    "'''"
   ]
  },
  {
   "cell_type": "code",
   "execution_count": null,
   "metadata": {},
   "outputs": [],
   "source": []
  },
  {
   "cell_type": "code",
   "execution_count": null,
   "metadata": {},
   "outputs": [],
   "source": []
  }
 ],
 "metadata": {
  "kernelspec": {
   "display_name": "Python 3",
   "language": "python",
   "name": "python3"
  },
  "language_info": {
   "codemirror_mode": {
    "name": "ipython",
    "version": 3
   },
   "file_extension": ".py",
   "mimetype": "text/x-python",
   "name": "python",
   "nbconvert_exporter": "python",
   "pygments_lexer": "ipython3",
   "version": "3.7.4"
  }
 },
 "nbformat": 4,
 "nbformat_minor": 4
}
