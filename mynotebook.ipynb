{
 "cells": [
  {
   "cell_type": "code",
   "execution_count": 1,
   "metadata": {},
   "outputs": [],
   "source": [
    "import numpy as np\n",
    "import matplotlib.dates\n",
    "import matplotlib.pyplot as plt\n",
    "from matplotlib import gridspec\n",
    "from matplotlib.ticker import (MultipleLocator)\n",
    "import pandas as pd\n",
    "from datetime import datetime"
   ]
  },
  {
   "cell_type": "code",
   "execution_count": 2,
   "metadata": {},
   "outputs": [],
   "source": [
    "votes = pd.DataFrame()"
   ]
  },
  {
   "cell_type": "code",
   "execution_count": 3,
   "metadata": {},
   "outputs": [],
   "source": [
    "votescsv = pd.read_csv('battleground-state-changes.csv')"
   ]
  },
  {
   "cell_type": "code",
   "execution_count": 4,
   "metadata": {},
   "outputs": [],
   "source": [
    "#take first word (ignore \"(EV: X)\")\n",
    "votes['state'] = votescsv['state']\n",
    "for i,row in votes.iterrows():\n",
    "    row['state'] = row['state'].split(' (')[0]"
   ]
  },
  {
   "cell_type": "code",
   "execution_count": 5,
   "metadata": {},
   "outputs": [],
   "source": [
    "votes['timestamp'] = pd.to_datetime(votescsv['timestamp'],format='%Y-%m-%d %H:%M:%S.%f')"
   ]
  },
  {
   "cell_type": "code",
   "execution_count": 6,
   "metadata": {},
   "outputs": [],
   "source": [
    "votes['biden']     = np.where(votescsv['leading_candidate_name']=='Biden',votescsv['leading_candidate_votes'],votescsv['trailing_candidate_votes'])\n",
    "votes['trump']     = np.where(votescsv['leading_candidate_name']=='Trump',votescsv['leading_candidate_votes'],votescsv['trailing_candidate_votes'])"
   ]
  },
  {
   "cell_type": "code",
   "execution_count": 7,
   "metadata": {},
   "outputs": [],
   "source": [
    "votes.sort_values(by='timestamp',inplace=True)"
   ]
  },
  {
   "cell_type": "code",
   "execution_count": 8,
   "metadata": {},
   "outputs": [],
   "source": [
    "thresh = 10 #cut off vote dumps smaller than this\n",
    "tmin = ''\n",
    "tmax = '2020-11-07 00:00:00.000'\n",
    "states = ['Georgia','Pennsylvania'] #['Alaska','Arizona','Georgia','North Carolina','Nevada','Pennsylvania']"
   ]
  },
  {
   "cell_type": "code",
   "execution_count": 10,
   "metadata": {
    "scrolled": false
   },
   "outputs": [
    {
     "name": "stderr",
     "output_type": "stream",
     "text": [
      "/Library/Frameworks/Python.framework/Versions/3.7/lib/python3.7/site-packages/ipykernel_launcher.py:53: RuntimeWarning: invalid value encountered in sqrt\n",
      "/Library/Frameworks/Python.framework/Versions/3.7/lib/python3.7/site-packages/ipykernel_launcher.py:55: RuntimeWarning: invalid value encountered in sqrt\n",
      "/Library/Frameworks/Python.framework/Versions/3.7/lib/python3.7/site-packages/ipykernel_launcher.py:82: UserWarning: FixedFormatter should only be used together with FixedLocator\n",
      "/Library/Frameworks/Python.framework/Versions/3.7/lib/python3.7/site-packages/ipykernel_launcher.py:101: UserWarning: FixedFormatter should only be used together with FixedLocator\n",
      "/Library/Frameworks/Python.framework/Versions/3.7/lib/python3.7/site-packages/ipykernel_launcher.py:53: RuntimeWarning: invalid value encountered in sqrt\n",
      "/Library/Frameworks/Python.framework/Versions/3.7/lib/python3.7/site-packages/ipykernel_launcher.py:55: RuntimeWarning: invalid value encountered in sqrt\n",
      "/Library/Frameworks/Python.framework/Versions/3.7/lib/python3.7/site-packages/ipykernel_launcher.py:78: UserWarning: FixedFormatter should only be used together with FixedLocator\n",
      "/Library/Frameworks/Python.framework/Versions/3.7/lib/python3.7/site-packages/ipykernel_launcher.py:101: UserWarning: FixedFormatter should only be used together with FixedLocator\n"
     ]
    }
   ],
   "source": [
    "for state in states:\n",
    "\n",
    "    #query dataframe\n",
    "    stdf  = votes.query((\"state == '%s'\" % state),inplace=False)\n",
    "    if(tmin!=''): stdf  = stdf[stdf['timestamp'] >= tmin]\n",
    "    if(tmin!=''): stdf  = stdf[stdf['timestamp'] <= tmax]\n",
    "\n",
    "    #main vals\n",
    "    times = stdf['timestamp'].dt.to_pydatetime()\n",
    "    biden = stdf['biden'].values\n",
    "    trump = stdf['trump'].values\n",
    "\n",
    "    #cumulative fractions (up until second-last val)\n",
    "    total  = biden[:-1] + trump[:-1]\n",
    "    fbiden = biden[:-1]/total\n",
    "    ftrump = trump[:-1]/total\n",
    "    \n",
    "    #incoming vote increments\n",
    "    dtimes =             times[:-1]\n",
    "    dbiden = biden[1:] - biden[:-1]\n",
    "    dtrump = trump[1:] - trump[:-1]\n",
    "    dtotal = dbiden + dtrump\n",
    "    \n",
    "    #relative increment (change as percentage of former value)\n",
    "    rbiden = dbiden / biden[:-1]\n",
    "    rtrump = dtrump / trump[:-1]\n",
    "    \n",
    "    #remove increments larger than threshold\n",
    "    thresh = 10\n",
    "    dtimes = dtimes[np.abs(dtotal)>=thresh]\n",
    "    dbiden = dbiden[np.abs(dtotal)>=thresh]\n",
    "    dtrump = dtrump[np.abs(dtotal)>=thresh]\n",
    "    rbiden = rbiden[np.abs(dtotal)>=thresh]\n",
    "    rtrump = rtrump[np.abs(dtotal)>=thresh]\n",
    "    fbiden = fbiden[np.abs(dtotal)>=thresh]\n",
    "    ftrump = ftrump[np.abs(dtotal)>=thresh]\n",
    "    dtotal = dtotal[np.abs(dtotal)>=thresh]\n",
    "    \n",
    "    #fractions of total vote increment\n",
    "    fdbiden = dbiden/dtotal\n",
    "    fdtrump = dtrump/dtotal\n",
    "\n",
    "    #negated biden vals for visualization\n",
    "    dbiden_neg  = -1*dbiden\n",
    "    fdbiden_neg = -1*fdbiden\n",
    "    \n",
    "    #ratio of obs to exp number of votes in this new batch\n",
    "    obsbiden = dbiden\n",
    "    expbiden = fbiden*dtotal #current fraction of votes times number of incoming votes\n",
    "    obstrump = dtrump\n",
    "    exptrump = ftrump*dtotal #ditto\n",
    "    ratbiden = obsbiden/expbiden\n",
    "    errbiden = np.sqrt(obsbiden)/expbiden\n",
    "    rattrump = obstrump/exptrump\n",
    "    errtrump = np.sqrt(obstrump)/exptrump\n",
    "    \n",
    "    #plotting\n",
    "    plt.rcParams[\"figure.figsize\"] = [8,8]\n",
    "    fig, (top,mid,low,bot) = plt.subplots(4, sharex=True)\n",
    "\n",
    "    #top: total number of votes for each\n",
    "    top.plot(times,trump,c='r',linewidth=0.7,label='Trump')\n",
    "    top.plot(times,biden,c='b',linewidth=0.7,label='Biden')\n",
    "    top.grid(axis='x')\n",
    "    top.set_ylabel('total votes')\n",
    "    top.legend(loc=\"center right\",facecolor='white',framealpha=1,frameon=False)\n",
    "\n",
    "    #upper middle: visualize numbers of new votes and lead of candidate\n",
    "    mid.bar(dtimes,dbiden_neg/1000,width=0.007,color='b',zorder=5)\n",
    "    mid.bar(dtimes,dtrump/1000,width=0.007,color='r',zorder=5)\n",
    "    mid.plot(times,(biden-trump)/10000,color='b',linewidth=0.5,zorder=3)\n",
    "    mid.plot(times,(trump-biden)/10000,color='r',linewidth=0.5,zorder=3,label='total vote lead $\\div$ 10')\n",
    "    mid.set_ylabel('new votes ($N\\geq$ %s)' % str(thresh))\n",
    "    mid.set_axisbelow(True)\n",
    "    if(state=='Pennsylvania'):\n",
    "        mid.set_ylim(-64,64)\n",
    "        mid.yaxis.set_major_locator(MultipleLocator(25))\n",
    "        mid.set_yticklabels(['','50k','25k','0','25k','50k'])\n",
    "    elif(state=='Georgia'):\n",
    "        mid.set_ylim(-11,11)\n",
    "        mid.yaxis.set_major_locator(MultipleLocator(5))\n",
    "        mid.set_yticklabels(['','10k','5k','0','5k','10k'])\n",
    "    mid.grid(axis='x') \n",
    "    mid.grid(axis='y',linewidth=0.6,linestyle='dashed')\n",
    "    mid.axhline(0,linewidth=0.6,color='black',zorder=1)\n",
    "    mid.legend(loc=\"upper right\",facecolor='white',framealpha=1,frameon=False)\n",
    "\n",
    "    #lower middle: same as above but in percentages\n",
    "    low.plot(dtimes,-100*fbiden,color='b',linewidth=0.5)\n",
    "    low.plot(dtimes,100*ftrump,color='r',linewidth=0.5,label='total vote percentage')\n",
    "    low.bar(dtimes,100*fdbiden_neg,width=0.007,color='b')\n",
    "    low.bar(dtimes,100*fdtrump,width=0.007,color='r')\n",
    "    low.scatter(dtimes,100*(fdbiden_neg+fdtrump),color='black',marker=\"_\",s=5,zorder=3)\n",
    "    low.set_ylabel('new votes ($N\\geq$ %s) [%%]' % str(thresh))\n",
    "    low.set_axisbelow(True)\n",
    "    low.set_ylim(-101,110)\n",
    "    low.grid(axis='x') \n",
    "    low.grid(axis='y',linewidth=0.6,linestyle='dashed')\n",
    "    low.axhline(0,linewidth=0.6,color='black',zorder=1)\n",
    "    low.legend(loc=\"upper right\",ncol=2,facecolor='white',framealpha=1,frameon=False)\n",
    "    low.set_yticklabels([200,100,50,0,50,100])\n",
    "\n",
    "    #bottom: compare observed number of votes with that expected for this batch of new votes assuming the current fraction of popularity from the cumulative vote total\n",
    "    bot.scatter(dtimes,ratbiden,facecolors='none', edgecolors='b',s=2,linewidths=0.5,zorder=3)\n",
    "    bot.scatter(dtimes,rattrump,facecolors='none', edgecolors='r',s=2,linewidths=0.5,zorder=3)\n",
    "    bot.errorbar(dtimes,ratbiden,errbiden,c='b',ls='none',elinewidth=0.5,zorder=3)\n",
    "    bot.errorbar(dtimes,rattrump,errtrump,c='r',ls='none',elinewidth=0.5,zorder=3)\n",
    "    bot.set_ylim(-0.1,2.1)\n",
    "    bot.set_axisbelow(True)\n",
    "    bot.grid(axis='x')\n",
    "    bot.grid(axis='y',linewidth=0.6,linestyle='dashed')\n",
    "    bot.axhline(1,linewidth=0.6,color='black',zorder=1)\n",
    "    bot.set_ylabel('$N_{obs} \\pm \\sqrt{N_{obs}} \\div N_{exp,bulk}$')\n",
    "    bot.xaxis_date()\n",
    "    bot.set_xlabel('date, time')\n",
    "\n",
    "    plt.xticks(rotation=45)\n",
    "    plt.tight_layout()\n",
    "    \n",
    "    fig.savefig('%s.pdf' % state)\n",
    "    plt.close()"
   ]
  },
  {
   "cell_type": "code",
   "execution_count": null,
   "metadata": {},
   "outputs": [],
   "source": []
  }
 ],
 "metadata": {
  "kernelspec": {
   "display_name": "Python 3",
   "language": "python",
   "name": "python3"
  },
  "language_info": {
   "codemirror_mode": {
    "name": "ipython",
    "version": 3
   },
   "file_extension": ".py",
   "mimetype": "text/x-python",
   "name": "python",
   "nbconvert_exporter": "python",
   "pygments_lexer": "ipython3",
   "version": "3.7.4"
  }
 },
 "nbformat": 4,
 "nbformat_minor": 4
}
